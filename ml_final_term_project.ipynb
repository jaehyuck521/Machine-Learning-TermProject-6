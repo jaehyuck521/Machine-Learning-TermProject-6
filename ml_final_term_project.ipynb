{
 "cells": [
  {
   "cell_type": "code",
   "execution_count": 1,
   "id": "c473dbe3",
   "metadata": {
    "ExecuteTime": {
     "end_time": "2021-11-08T02:32:20.756546Z",
     "start_time": "2021-11-08T02:32:17.089592Z"
    }
   },
   "outputs": [],
   "source": [
    "import pandas as pd\n",
    "import numpy as np\n",
    "\n",
    "from pandas.core.dtypes.common import is_numeric_dtype, is_string_dtype"
   ]
  },
  {
   "cell_type": "code",
   "execution_count": 2,
   "id": "3c5e7aab",
   "metadata": {
    "ExecuteTime": {
     "end_time": "2021-11-08T02:32:20.772563Z",
     "start_time": "2021-11-08T02:32:20.758545Z"
    }
   },
   "outputs": [],
   "source": [
    "def get_numeric_col(df):\n",
    "    numeric_col_list = []\n",
    "\n",
    "    for col_name in df.columns:\n",
    "        if is_numeric_dtype(df[col_name].dtypes):\n",
    "            numeric_col_list.append(col_name)\n",
    "\n",
    "    return numeric_col_list\n",
    "\n",
    "\n",
    "def get_string_col(df):\n",
    "    string_col_list = []\n",
    "\n",
    "    for col_name in df.columns:\n",
    "        if is_string_dtype(df[col_name].dtypes):\n",
    "            string_col_list.append(col_name)\n",
    "\n",
    "    return string_col_list\n",
    "\n",
    "\n",
    "def outlier_iqr(df):\n",
    "    numeric_col_list = get_numeric_col(df)\n",
    "    total_size = df.shape[0]\n",
    "    total_outlier_size = 0\n",
    "    for col_name in numeric_col_list:\n",
    "        q1, q3 = np.percentile(df[col_name], [25, 75])\n",
    "\n",
    "        iqr = q3 - q1\n",
    "\n",
    "        lower_bound = q1 - (iqr * 1.5)\n",
    "        upper_bound = q3 + (iqr * 1.5)\n",
    "\n",
    "        count = 0\n",
    "        count += df[upper_bound < df[col_name]].shape[0]\n",
    "        count += df[df[col_name] < lower_bound].shape[0]\n",
    "\n",
    "        if count < total_size * 0.025:\n",
    "            df = df[upper_bound >= df[col_name]]\n",
    "            df = df[df[col_name] >= lower_bound]\n",
    "            total_outlier_size += count\n",
    "\n",
    "    return total_outlier_size, df"
   ]
  },
  {
   "cell_type": "code",
   "execution_count": 3,
   "id": "4a53efe7",
   "metadata": {
    "ExecuteTime": {
     "end_time": "2021-11-08T02:32:20.787549Z",
     "start_time": "2021-11-08T02:32:20.775545Z"
    }
   },
   "outputs": [],
   "source": [
    "def check_dataset(df):\n",
    "    print(df.info())\n",
    "    print()\n",
    "    print(f'number of \"NULL\" value: {df.isnull().sum().sum()}')\n",
    "    df_drop_NAN = df.dropna(axis=0)\n",
    "    print(f'droped row : {df.shape[0] -df_drop_NAN.shape[0]}', end='\\n\\n')\n",
    "\n",
    "    num_outlier, df_drop_outlier = outlier_iqr(df_drop_NAN.copy())\n",
    "    print(f'number of outlier : {num_outlier} / {df_drop_NAN.shape[0]} ---> {df_drop_NAN.shape[0] - num_outlier}')\n",
    "\n",
    "    return df_drop_outlier"
   ]
  },
  {
   "cell_type": "code",
   "execution_count": 4,
   "id": "7dda67dd",
   "metadata": {
    "ExecuteTime": {
     "end_time": "2021-11-08T02:32:20.802547Z",
     "start_time": "2021-11-08T02:32:20.792547Z"
    }
   },
   "outputs": [],
   "source": [
    "def makePriceToClass(df):\n",
    "    df.loc[df['price']<=10000,'class']='A'\n",
    "    df.loc[(df['price']>10000) & (df['price']<=20000),'class']='B'\n",
    "    df.loc[(df['price']>20000) & (df['price']<=30000),'class']='C'\n",
    "    df.loc[(df['price']>30000) & (df['price']<=50000),'class']='D'\n",
    "    df.loc[(df['price']>50000) ,'class']='E'\n",
    "    df.drop('price',axis=1)\n",
    "    return df"
   ]
  },
  {
   "cell_type": "code",
   "execution_count": 5,
   "id": "e3026155",
   "metadata": {
    "ExecuteTime": {
     "end_time": "2021-11-08T02:33:03.058802Z",
     "start_time": "2021-11-08T02:32:20.807545Z"
    }
   },
   "outputs": [],
   "source": [
    "df = pd.read_csv(r'.\\dataset\\vehicles.csv')"
   ]
  },
  {
   "cell_type": "code",
   "execution_count": 6,
   "id": "fae1790d",
   "metadata": {
    "ExecuteTime": {
     "end_time": "2021-11-08T02:33:03.618851Z",
     "start_time": "2021-11-08T02:33:03.061767Z"
    },
    "scrolled": true
   },
   "outputs": [
    {
     "name": "stdout",
     "output_type": "stream",
     "text": [
      "426880\n",
      "id                   0\n",
      "url                  0\n",
      "region               0\n",
      "region_url           0\n",
      "price                0\n",
      "year              1205\n",
      "manufacturer     17646\n",
      "model             5277\n",
      "condition       174104\n",
      "cylinders       177678\n",
      "fuel              3013\n",
      "odometer          4400\n",
      "title_status      8242\n",
      "transmission      2556\n",
      "VIN             161042\n",
      "drive           130567\n",
      "size            306361\n",
      "type             92858\n",
      "paint_color     130203\n",
      "image_url           68\n",
      "description         70\n",
      "county          426880\n",
      "state                0\n",
      "lat               6549\n",
      "long              6549\n",
      "posting_date        68\n",
      "dtype: int64\n"
     ]
    }
   ],
   "source": [
    "print(df.shape[0])\n",
    "null_count_series = df.isnull().sum()\n",
    "print(null_count_series)"
   ]
  },
  {
   "cell_type": "code",
   "execution_count": 20,
   "id": "358a0da6",
   "metadata": {
    "ExecuteTime": {
     "end_time": "2021-11-08T02:50:20.682830Z",
     "start_time": "2021-11-08T02:50:20.473836Z"
    },
    "scrolled": true
   },
   "outputs": [
    {
     "name": "stdout",
     "output_type": "stream",
     "text": [
      "12383\n",
      "            id                                                url  region  \\\n",
      "27  7316814884  https://auburn.craigslist.org/ctd/d/auburn-uni...  auburn   \n",
      "28  7316814758  https://auburn.craigslist.org/ctd/d/auburn-uni...  auburn   \n",
      "29  7316814989  https://auburn.craigslist.org/ctd/d/auburn-uni...  auburn   \n",
      "30  7316743432  https://auburn.craigslist.org/ctd/d/auburn-uni...  auburn   \n",
      "31  7316356412  https://auburn.craigslist.org/cto/d/auburn-uni...  auburn   \n",
      "32  7316343444  https://auburn.craigslist.org/ctd/d/auburn-uni...  auburn   \n",
      "33  7316304717  https://auburn.craigslist.org/ctd/d/auburn-uni...  auburn   \n",
      "34  7316285779  https://auburn.craigslist.org/cto/d/auburn-201...  auburn   \n",
      "35  7316257769  https://auburn.craigslist.org/ctd/d/auburn-uni...  auburn   \n",
      "36  7316133914  https://auburn.craigslist.org/ctd/d/auburn-uni...  auburn   \n",
      "\n",
      "                       region_url  price    year manufacturer  \\\n",
      "27  https://auburn.craigslist.org  33590  2014.0          gmc   \n",
      "28  https://auburn.craigslist.org  22590  2010.0    chevrolet   \n",
      "29  https://auburn.craigslist.org  39590  2020.0    chevrolet   \n",
      "30  https://auburn.craigslist.org  30990  2017.0       toyota   \n",
      "31  https://auburn.craigslist.org  15000  2013.0         ford   \n",
      "32  https://auburn.craigslist.org  27990  2012.0          gmc   \n",
      "33  https://auburn.craigslist.org  34590  2016.0    chevrolet   \n",
      "34  https://auburn.craigslist.org  35000  2019.0       toyota   \n",
      "35  https://auburn.craigslist.org  29990  2016.0    chevrolet   \n",
      "36  https://auburn.craigslist.org  38590  2011.0    chevrolet   \n",
      "\n",
      "                          model  condition    cylinders  ...       size  \\\n",
      "27     sierra 1500 crew cab slt       good  8 cylinders  ...        NaN   \n",
      "28               silverado 1500       good  8 cylinders  ...        NaN   \n",
      "29          silverado 1500 crew       good  8 cylinders  ...        NaN   \n",
      "30         tundra double cab sr       good  8 cylinders  ...        NaN   \n",
      "31                    f-150 xlt  excellent  6 cylinders  ...  full-size   \n",
      "32  sierra 2500 hd extended cab       good  8 cylinders  ...        NaN   \n",
      "33        silverado 1500 double       good  6 cylinders  ...        NaN   \n",
      "34                       tacoma  excellent  6 cylinders  ...        NaN   \n",
      "35        colorado extended cab       good  6 cylinders  ...        NaN   \n",
      "36         corvette grand sport       good  8 cylinders  ...        NaN   \n",
      "\n",
      "      type paint_color                                          image_url  \\\n",
      "27  pickup       white  https://images.craigslist.org/00R0R_lwWjXSEWNa...   \n",
      "28  pickup        blue  https://images.craigslist.org/00R0R_lwWjXSEWNa...   \n",
      "29  pickup         red  https://images.craigslist.org/01212_jjirIWa0y0...   \n",
      "30  pickup         red  https://images.craigslist.org/00x0x_1y9kIOzGCF...   \n",
      "31   truck       black  https://images.craigslist.org/00404_l4loxHvdQe...   \n",
      "32  pickup       black  https://images.craigslist.org/00V0V_ftJbKrOgdi...   \n",
      "33  pickup      silver  https://images.craigslist.org/00E0E_iKN07Sh7ou...   \n",
      "34   truck        grey  https://images.craigslist.org/00101_dXoZTH7iVm...   \n",
      "35  pickup         red  https://images.craigslist.org/00N0N_1xMPvfxRAI...   \n",
      "36   other         red  https://images.craigslist.org/00U0U_kKYnS1LWh8...   \n",
      "\n",
      "                                          description county state      lat  \\\n",
      "27  Carvana is the safer way to buy a car During t...    NaN    al  32.5900   \n",
      "28  Carvana is the safer way to buy a car During t...    NaN    al  32.5900   \n",
      "29  Carvana is the safer way to buy a car During t...    NaN    al  32.5900   \n",
      "30  Carvana is the safer way to buy a car During t...    NaN    al  32.5900   \n",
      "31  2013 F-150 XLT V6 4 Door. Good condition. Leve...    NaN    al  32.5920   \n",
      "32  Carvana is the safer way to buy a car During t...    NaN    al  32.5900   \n",
      "33  Carvana is the safer way to buy a car During t...    NaN    al  32.5900   \n",
      "34  Selling my 2019 Toyota Tacoma TRD Off Road Dou...    NaN    al  32.6013   \n",
      "35  Carvana is the safer way to buy a car During t...    NaN    al  32.5900   \n",
      "36  Carvana is the safer way to buy a car During t...    NaN    al  32.5900   \n",
      "\n",
      "         long              posting_date  \n",
      "27 -85.480000  2021-05-04T12:31:18-0500  \n",
      "28 -85.480000  2021-05-04T12:31:08-0500  \n",
      "29 -85.480000  2021-05-04T12:31:25-0500  \n",
      "30 -85.480000  2021-05-04T10:41:31-0500  \n",
      "31 -85.518900  2021-05-03T14:02:03-0500  \n",
      "32 -85.480000  2021-05-03T13:41:25-0500  \n",
      "33 -85.480000  2021-05-03T12:41:33-0500  \n",
      "34 -85.443974  2021-05-03T12:12:59-0500  \n",
      "35 -85.480000  2021-05-03T11:31:14-0500  \n",
      "36 -85.480000  2021-05-03T07:50:35-0500  \n",
      "\n",
      "[10 rows x 26 columns]\n"
     ]
    }
   ],
   "source": [
    "year_threshold = 1990\n",
    "print(df[df['year'] < year_threshold].shape[0])\n",
    "df_after_thresh = df[df['year'] >= year_threshold]\n",
    "print(df_after_thresh.head(10))"
   ]
  },
  {
   "cell_type": "code",
   "execution_count": 9,
   "id": "84e8eaad",
   "metadata": {
    "ExecuteTime": {
     "end_time": "2021-11-08T02:35:07.407337Z",
     "start_time": "2021-11-08T02:35:06.950358Z"
    }
   },
   "outputs": [
    {
     "name": "stdout",
     "output_type": "stream",
     "text": [
      "413292\n",
      "id                   0\n",
      "url                  0\n",
      "region               0\n",
      "region_url           0\n",
      "price                0\n",
      "year                 0\n",
      "manufacturer     14229\n",
      "model             4146\n",
      "condition       169290\n",
      "cylinders       173639\n",
      "fuel              2729\n",
      "odometer          4293\n",
      "title_status      7914\n",
      "transmission      2465\n",
      "VIN             150311\n",
      "drive           125603\n",
      "size            298001\n",
      "type             87471\n",
      "paint_color     125342\n",
      "image_url            0\n",
      "description          2\n",
      "county          413292\n",
      "state                0\n",
      "lat               6451\n",
      "long              6451\n",
      "posting_date         0\n",
      "dtype: int64\n"
     ]
    }
   ],
   "source": [
    "print(df_after_thresh.shape[0])\n",
    "null_count_series = df_after_thresh.isnull().sum()\n",
    "print(null_count_series)"
   ]
  },
  {
   "cell_type": "code",
   "execution_count": 23,
   "id": "7cf2efa3",
   "metadata": {
    "ExecuteTime": {
     "end_time": "2021-11-08T02:51:58.317498Z",
     "start_time": "2021-11-08T02:51:57.195157Z"
    }
   },
   "outputs": [
    {
     "name": "stdout",
     "output_type": "stream",
     "text": [
      "['size', 'county']\n",
      "<class 'pandas.core.frame.DataFrame'>\n",
      "Int64Index: 413292 entries, 27 to 426879\n",
      "Data columns (total 16 columns):\n",
      " #   Column        Non-Null Count   Dtype  \n",
      "---  ------        --------------   -----  \n",
      " 0   region        413292 non-null  object \n",
      " 1   price         413292 non-null  int64  \n",
      " 2   year          413292 non-null  float64\n",
      " 3   manufacturer  399063 non-null  object \n",
      " 4   model         409146 non-null  object \n",
      " 5   condition     244002 non-null  object \n",
      " 6   cylinders     239653 non-null  object \n",
      " 7   fuel          410563 non-null  object \n",
      " 8   odometer      408999 non-null  float64\n",
      " 9   title_status  405378 non-null  object \n",
      " 10  transmission  410827 non-null  object \n",
      " 11  VIN           262981 non-null  object \n",
      " 12  drive         287689 non-null  object \n",
      " 13  type          325821 non-null  object \n",
      " 14  paint_color   287950 non-null  object \n",
      " 15  state         413292 non-null  object \n",
      "dtypes: float64(2), int64(1), object(13)\n",
      "memory usage: 53.6+ MB\n",
      "None\n",
      "\n",
      "number of \"NULL\" value: 867432\n",
      "droped row : 352897\n",
      "\n",
      "number of outlier : 1775 / 60395 ---> 58620\n"
     ]
    }
   ],
   "source": [
    "# ['condition', 'cylinders', 'VIN', 'drive', 'size', 'paint_color', 'county']\n",
    "has_many_null_col_list = list(null_count_series[null_count_series > df.shape[0]/2].index)\n",
    "print(has_many_null_col_list)\n",
    "drop_col_list = ['url', 'image_url', 'posting_date', 'description', 'region_url', 'id', 'lat', 'long']\n",
    "drop_col_list += has_many_null_col_list\n",
    "\n",
    "df_drop_unusful = df_after_thresh.drop(drop_col_list, axis=1)\n",
    "\n",
    "df_drop_outlier = check_dataset(df_drop_unusful.copy())"
   ]
  },
  {
   "cell_type": "code",
   "execution_count": 24,
   "id": "ff6c0e81",
   "metadata": {
    "ExecuteTime": {
     "end_time": "2021-11-08T02:52:00.177529Z",
     "start_time": "2021-11-08T02:52:00.080465Z"
    }
   },
   "outputs": [
    {
     "name": "stdout",
     "output_type": "stream",
     "text": [
      "region(categorical column) has \"398\" different value\n",
      "manufacturer(categorical column) has \"39\" different value\n",
      "model(categorical column) has \"6038\" different value\n",
      "condition(categorical column) has \"6\" different value\n",
      "cylinders(categorical column) has \"8\" different value\n",
      "fuel(categorical column) has \"5\" different value\n",
      "title_status(categorical column) has \"6\" different value\n",
      "transmission(categorical column) has \"3\" different value\n",
      "VIN(categorical column) has \"30029\" different value\n",
      "drive(categorical column) has \"3\" different value\n",
      "type(categorical column) has \"13\" different value\n",
      "paint_color(categorical column) has \"12\" different value\n",
      "state(categorical column) has \"51\" different value\n"
     ]
    }
   ],
   "source": [
    "for col_name in get_string_col(df_drop_outlier):\n",
    "        if df_drop_outlier[col_name].dtype == 'object':\n",
    "            print(f'{col_name}(categorical column) has \"{len(df_drop_outlier[col_name].unique())}\" different value')"
   ]
  },
  {
   "cell_type": "code",
   "execution_count": 25,
   "id": "2762b4cc",
   "metadata": {
    "ExecuteTime": {
     "end_time": "2021-11-08T02:52:25.725583Z",
     "start_time": "2021-11-08T02:52:25.704599Z"
    }
   },
   "outputs": [],
   "source": [
    "# print(df_after_thresh['model'].unique())\n",
    "df_drop_outlier.drop(['model', 'VIN'], axis=1, inplace=True)"
   ]
  },
  {
   "cell_type": "code",
   "execution_count": 29,
   "id": "bec620d4",
   "metadata": {
    "ExecuteTime": {
     "end_time": "2021-11-08T02:54:59.851934Z",
     "start_time": "2021-11-08T02:54:59.421933Z"
    }
   },
   "outputs": [],
   "source": [
    "df_drop_outlier.reset_index(drop=True, inplace=True)\n",
    "df_drop_outlier.to_csv(r'./dataset/afterPreprocessing.csv')"
   ]
  },
  {
   "cell_type": "code",
   "execution_count": 28,
   "id": "1c1208d7",
   "metadata": {
    "ExecuteTime": {
     "end_time": "2021-11-08T02:53:32.043812Z",
     "start_time": "2021-11-08T02:53:32.014782Z"
    }
   },
   "outputs": [
    {
     "name": "stdout",
     "output_type": "stream",
     "text": [
      "   region  price    year manufacturer condition    cylinders   fuel  odometer  \\\n",
      "0  auburn  27990  2012.0          gmc      good  8 cylinders    gas   68696.0   \n",
      "1  auburn  34590  2016.0    chevrolet      good  6 cylinders    gas   29499.0   \n",
      "2  auburn  29990  2016.0    chevrolet      good  6 cylinders    gas   17302.0   \n",
      "3  auburn  38590  2011.0    chevrolet      good  8 cylinders    gas   30237.0   \n",
      "4  auburn  32990  2017.0         jeep      good  6 cylinders    gas   30041.0   \n",
      "5  auburn  37990  2016.0    chevrolet      good  8 cylinders    gas    9704.0   \n",
      "6  auburn  27990  2018.0       nissan      good  6 cylinders    gas   37332.0   \n",
      "7  auburn  34990  2018.0         ford      good  8 cylinders    gas   18650.0   \n",
      "8  auburn  29990  2014.0    chevrolet      good  8 cylinders    gas   26129.0   \n",
      "9  auburn  33990  2017.0         jeep      good  6 cylinders  other   34152.0   \n",
      "\n",
      "  title_status transmission drive    type paint_color state  \n",
      "0        clean        other   4wd  pickup       black    al  \n",
      "1        clean        other   4wd  pickup      silver    al  \n",
      "2        clean        other   4wd  pickup         red    al  \n",
      "3        clean        other   rwd   other         red    al  \n",
      "4        clean        other   4wd   other      silver    al  \n",
      "5        clean        other   rwd   coupe         red    al  \n",
      "6        clean        other   4wd  pickup      silver    al  \n",
      "7        clean        other   rwd   other       black    al  \n",
      "8        clean        other   4wd  pickup       brown    al  \n",
      "9        clean        other   4wd     SUV       white    al  \n",
      "58620\n"
     ]
    }
   ],
   "source": [
    "print(df_drop_outlier.head(10))\n",
    "print(df_drop_outlier.shape[0])"
   ]
  },
  {
   "cell_type": "code",
   "execution_count": 34,
   "id": "983df3cf",
   "metadata": {
    "ExecuteTime": {
     "end_time": "2021-11-06T01:50:51.103148Z",
     "start_time": "2021-11-06T01:50:50.531148Z"
    }
   },
   "outputs": [
    {
     "name": "stdout",
     "output_type": "stream",
     "text": [
      "   region  price    year manufacturer fuel  odometer title_status  \\\n",
      "0  auburn  33590  2014.0          gmc  gas   57923.0        clean   \n",
      "1  auburn  22590  2010.0    chevrolet  gas   71229.0        clean   \n",
      "2  auburn  39590  2020.0    chevrolet  gas   19160.0        clean   \n",
      "3  auburn  30990  2017.0       toyota  gas   41124.0        clean   \n",
      "4  auburn  15000  2013.0         ford  gas  128000.0        clean   \n",
      "5  auburn  27990  2012.0          gmc  gas   68696.0        clean   \n",
      "6  auburn  34590  2016.0    chevrolet  gas   29499.0        clean   \n",
      "7  auburn  35000  2019.0       toyota  gas   43000.0        clean   \n",
      "8  auburn  29990  2016.0    chevrolet  gas   17302.0        clean   \n",
      "9  auburn  38590  2011.0    chevrolet  gas   30237.0        clean   \n",
      "\n",
      "  transmission    type state      lat       long  \n",
      "0        other  pickup    al  32.5900 -85.480000  \n",
      "1        other  pickup    al  32.5900 -85.480000  \n",
      "2        other  pickup    al  32.5900 -85.480000  \n",
      "3        other  pickup    al  32.5900 -85.480000  \n",
      "4    automatic   truck    al  32.5920 -85.518900  \n",
      "5        other  pickup    al  32.5900 -85.480000  \n",
      "6        other  pickup    al  32.5900 -85.480000  \n",
      "7    automatic   truck    al  32.6013 -85.443974  \n",
      "8        other  pickup    al  32.5900 -85.480000  \n",
      "9        other   other    al  32.5900 -85.480000  \n"
     ]
    }
   ],
   "source": [
    "df_drop_outlier = pd.read_csv(r'./dataset/afterPreprocessing.csv', index_col='Unnamed: 0')\n",
    "print(df_drop_outlier.head(10))"
   ]
  },
  {
   "cell_type": "code",
   "execution_count": 40,
   "id": "60d03d72",
   "metadata": {
    "ExecuteTime": {
     "end_time": "2021-11-06T01:54:03.290160Z",
     "start_time": "2021-11-06T01:54:00.036162Z"
    }
   },
   "outputs": [],
   "source": [
    "from sklearn.preprocessing import OrdinalEncoder\n",
    "\n",
    "encoder=OrdinalEncoder()\n",
    "df_needEncoding=df_after_thresh[get_string_col(df_after_thresh)]\n",
    "df_notEncoding=df_after_thresh.drop(get_string_col(df_after_thresh), axis=1)\n",
    "\n",
    "df_encoding=pd.DataFrame(encoder.fit_transform(df_needEncoding), columns=get_string_col(df_after_thresh))\n",
    "\n",
    "# print(df_encoding.tail(10))\n",
    "# print(df_notEncoding.tail(10))\n",
    "\n",
    "df_encoding = pd.concat([df_notEncoding, df_encoding], axis=1)\n",
    "\n",
    "df_encoding.to_csv(r'./dataset/123.csv')"
   ]
  },
  {
   "cell_type": "code",
   "execution_count": 18,
   "id": "7b937259",
   "metadata": {
    "ExecuteTime": {
     "end_time": "2021-11-08T02:45:43.330281Z",
     "start_time": "2021-11-08T02:45:43.216260Z"
    }
   },
   "outputs": [
    {
     "name": "stdout",
     "output_type": "stream",
     "text": [
      "region          0\n",
      "price           0\n",
      "year            0\n",
      "manufacturer    0\n",
      "fuel            0\n",
      "odometer        0\n",
      "title_status    0\n",
      "transmission    0\n",
      "type            0\n",
      "state           0\n",
      "lat             0\n",
      "long            0\n",
      "dtype: int64\n",
      "284392\n"
     ]
    }
   ],
   "source": [
    "print(df_drop_outlier.isnull().sum())\n",
    "print(df_drop_outlier.shape[0])"
   ]
  }
 ],
 "metadata": {
  "kernelspec": {
   "display_name": "Python 3",
   "language": "python",
   "name": "python3"
  },
  "language_info": {
   "codemirror_mode": {
    "name": "ipython",
    "version": 3
   },
   "file_extension": ".py",
   "mimetype": "text/x-python",
   "name": "python",
   "nbconvert_exporter": "python",
   "pygments_lexer": "ipython3",
   "version": "3.8.10"
  },
  "toc": {
   "base_numbering": 1,
   "nav_menu": {},
   "number_sections": true,
   "sideBar": true,
   "skip_h1_title": false,
   "title_cell": "Table of Contents",
   "title_sidebar": "Contents",
   "toc_cell": false,
   "toc_position": {},
   "toc_section_display": true,
   "toc_window_display": false
  },
  "varInspector": {
   "cols": {
    "lenName": 16,
    "lenType": 16,
    "lenVar": 40
   },
   "kernels_config": {
    "python": {
     "delete_cmd_postfix": "",
     "delete_cmd_prefix": "del ",
     "library": "var_list.py",
     "varRefreshCmd": "print(var_dic_list())"
    },
    "r": {
     "delete_cmd_postfix": ") ",
     "delete_cmd_prefix": "rm(",
     "library": "var_list.r",
     "varRefreshCmd": "cat(var_dic_list()) "
    }
   },
   "types_to_exclude": [
    "module",
    "function",
    "builtin_function_or_method",
    "instance",
    "_Feature"
   ],
   "window_display": false
  }
 },
 "nbformat": 4,
 "nbformat_minor": 5
}
