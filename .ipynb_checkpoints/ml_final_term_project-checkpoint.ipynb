{
 "cells": [
  {
   "cell_type": "code",
   "execution_count": 1,
   "id": "c473dbe3",
   "metadata": {
    "ExecuteTime": {
     "end_time": "2021-11-05T07:56:58.095382Z",
     "start_time": "2021-11-05T07:56:52.706983Z"
    }
   },
   "outputs": [],
   "source": [
    "import pandas as pd\n",
    "import numpy as np\n",
    "\n",
    "from pandas.core.dtypes.common import is_numeric_dtype, is_string_dtype"
   ]
  },
  {
   "cell_type": "code",
   "execution_count": 2,
   "id": "3c5e7aab",
   "metadata": {
    "ExecuteTime": {
     "end_time": "2021-11-05T07:56:58.125906Z",
     "start_time": "2021-11-05T07:56:58.098382Z"
    }
   },
   "outputs": [],
   "source": [
    "def get_numeric_col(df):\n",
    "    numeric_col_list = []\n",
    "\n",
    "    for col_name in df.columns:\n",
    "        if is_numeric_dtype(df[col_name].dtypes):\n",
    "            numeric_col_list.append(col_name)\n",
    "\n",
    "    return numeric_col_list\n",
    "\n",
    "\n",
    "def get_string_col(df):\n",
    "    string_col_list = []\n",
    "\n",
    "    for col_name in df.columns:\n",
    "        if is_string_dtype(df[col_name].dtypes):\n",
    "            string_col_list.append(col_name)\n",
    "\n",
    "    return string_col_list\n",
    "\n",
    "\n",
    "def outlier_iqr(df):\n",
    "    numeric_col_list = get_numeric_col(df)\n",
    "    total_size = df.shape[0]\n",
    "    total_outlier_size = 0\n",
    "    for col_name in numeric_col_list:\n",
    "        q1, q3 = np.percentile(df[col_name], [25, 75])\n",
    "\n",
    "        iqr = q3 - q1\n",
    "\n",
    "        lower_bound = q1 - (iqr * 1.5)\n",
    "        upper_bound = q3 + (iqr * 1.5)\n",
    "\n",
    "        count = 0\n",
    "        count += df[upper_bound < df[col_name]].shape[0]\n",
    "        count += df[df[col_name] < lower_bound].shape[0]\n",
    "\n",
    "        if count < total_size * 0.025:\n",
    "            df = df[upper_bound >= df[col_name]]\n",
    "            df = df[df[col_name] >= lower_bound]\n",
    "            total_outlier_size += count\n",
    "\n",
    "    return total_outlier_size, df"
   ]
  },
  {
   "cell_type": "code",
   "execution_count": 3,
   "id": "4a53efe7",
   "metadata": {
    "ExecuteTime": {
     "end_time": "2021-11-05T07:56:58.140905Z",
     "start_time": "2021-11-05T07:56:58.129904Z"
    }
   },
   "outputs": [],
   "source": [
    "def check_dataset(df):\n",
    "    print(df.info())\n",
    "    print()\n",
    "    print(f'number of \"NULL\" value: {df.isnull().sum().sum()}')\n",
    "    df_drop_NAN = df.dropna(axis=0)\n",
    "    print(f'droped row : {df.shape[0] -df_drop_NAN.shape[0]}', end='\\n\\n')\n",
    "\n",
    "    num_outlier, df_drop_outlier = outlier_iqr(df_drop_NAN.copy())\n",
    "    print(f'number of outlier : {num_outlier} / {df_drop_NAN.shape[0]} ---> {df_drop_NAN.shape[0] - num_outlier}')\n",
    "\n",
    "    return df_drop_outlier"
   ]
  },
  {
   "cell_type": "code",
   "execution_count": 17,
   "id": "7dda67dd",
   "metadata": {
    "ExecuteTime": {
     "end_time": "2021-11-05T08:01:53.347222Z",
     "start_time": "2021-11-05T08:01:53.339218Z"
    }
   },
   "outputs": [],
   "source": [
    "def makePriceToClass(df):\n",
    "    df.loc[df['price']<=10000,'class']='A'\n",
    "    df.loc[(df['price']>10000) & (df['price']<=20000),'class']='B'\n",
    "    df.loc[(df['price']>20000) & (df['price']<=30000),'class']='C'\n",
    "    df.loc[(df['price']>30000) & (df['price']<=50000),'class']='D'\n",
    "    df.loc[(df['price']>50000) ,'class']='E'\n",
    "    df.drop('price',axis=1)\n",
    "    return df"
   ]
  },
  {
   "cell_type": "code",
   "execution_count": 4,
   "id": "e3026155",
   "metadata": {
    "ExecuteTime": {
     "end_time": "2021-11-05T07:57:32.100563Z",
     "start_time": "2021-11-05T07:56:58.143902Z"
    }
   },
   "outputs": [],
   "source": [
    "df = pd.read_csv(r'.\\dataset\\vehicles.csv')"
   ]
  },
  {
   "cell_type": "code",
   "execution_count": 5,
   "id": "fae1790d",
   "metadata": {
    "ExecuteTime": {
     "end_time": "2021-11-05T07:57:32.659553Z",
     "start_time": "2021-11-05T07:57:32.103545Z"
    },
    "scrolled": false
   },
   "outputs": [
    {
     "name": "stdout",
     "output_type": "stream",
     "text": [
      "426880\n",
      "id                   0\n",
      "url                  0\n",
      "region               0\n",
      "region_url           0\n",
      "price                0\n",
      "year              1205\n",
      "manufacturer     17646\n",
      "model             5277\n",
      "condition       174104\n",
      "cylinders       177678\n",
      "fuel              3013\n",
      "odometer          4400\n",
      "title_status      8242\n",
      "transmission      2556\n",
      "VIN             161042\n",
      "drive           130567\n",
      "size            306361\n",
      "type             92858\n",
      "paint_color     130203\n",
      "image_url           68\n",
      "description         70\n",
      "county          426880\n",
      "state                0\n",
      "lat               6549\n",
      "long              6549\n",
      "posting_date        68\n",
      "dtype: int64\n"
     ]
    }
   ],
   "source": [
    "print(df.shape[0])\n",
    "null_count_series = df.isnull().sum()\n",
    "print(null_count_series)"
   ]
  },
  {
   "cell_type": "code",
   "execution_count": 18,
   "id": "7cf2efa3",
   "metadata": {
    "ExecuteTime": {
     "end_time": "2021-11-05T08:04:06.069602Z",
     "start_time": "2021-11-05T08:04:04.549554Z"
    }
   },
   "outputs": [
    {
     "name": "stdout",
     "output_type": "stream",
     "text": [
      "<class 'pandas.core.frame.DataFrame'>\n",
      "RangeIndex: 426880 entries, 0 to 426879\n",
      "Data columns (total 13 columns):\n",
      " #   Column        Non-Null Count   Dtype  \n",
      "---  ------        --------------   -----  \n",
      " 0   region        426880 non-null  object \n",
      " 1   price         426880 non-null  int64  \n",
      " 2   year          425675 non-null  float64\n",
      " 3   manufacturer  409234 non-null  object \n",
      " 4   model         421603 non-null  object \n",
      " 5   fuel          423867 non-null  object \n",
      " 6   odometer      422480 non-null  float64\n",
      " 7   title_status  418638 non-null  object \n",
      " 8   transmission  424324 non-null  object \n",
      " 9   type          334022 non-null  object \n",
      " 10  state         426880 non-null  object \n",
      " 11  lat           420331 non-null  float64\n",
      " 12  long          420331 non-null  float64\n",
      "dtypes: float64(4), int64(1), object(8)\n",
      "memory usage: 42.3+ MB\n",
      "None\n",
      "\n",
      "number of \"NULL\" value: 148295\n",
      "droped row : 125786\n",
      "\n",
      "region(categorical column) has \"404\" different value\n",
      "manufacturer(categorical column) has \"41\" different value\n",
      "model(categorical column) has \"18830\" different value\n",
      "fuel(categorical column) has \"5\" different value\n",
      "title_status(categorical column) has \"6\" different value\n",
      "transmission(categorical column) has \"3\" different value\n",
      "type(categorical column) has \"13\" different value\n",
      "state(categorical column) has \"51\" different value\n",
      "\n",
      "number of outlier : 11693 / 301094 ---> 289401\n"
     ]
    }
   ],
   "source": [
    "# ['condition', 'cylinders', 'VIN', 'drive', 'size', 'paint_color', 'county']\n",
    "has_many_null_col_list = list(null_count_series[null_count_series > 100000].index)\n",
    "drop_col_list = ['url', 'image_url', 'posting_date', 'description', 'region_url', 'id']\n",
    "drop_col_list += has_many_null_col_list\n",
    "\n",
    "df_drop_unusful = df.drop(drop_col_list, axis=1)\n",
    "\n",
    "df_drop_outlier = check_dataset(df_drop_unusful.copy())"
   ]
  },
  {
   "cell_type": "code",
   "execution_count": 23,
   "id": "2f3dbb9c",
   "metadata": {
    "ExecuteTime": {
     "end_time": "2021-11-05T08:18:04.059185Z",
     "start_time": "2021-11-05T08:18:03.979188Z"
    }
   },
   "outputs": [
    {
     "name": "stdout",
     "output_type": "stream",
     "text": [
      "    region  price    year manufacturer                        model fuel  \\\n",
      "27  auburn  33590  2014.0          gmc     sierra 1500 crew cab slt  gas   \n",
      "28  auburn  22590  2010.0    chevrolet               silverado 1500  gas   \n",
      "29  auburn  39590  2020.0    chevrolet          silverado 1500 crew  gas   \n",
      "30  auburn  30990  2017.0       toyota         tundra double cab sr  gas   \n",
      "31  auburn  15000  2013.0         ford                    f-150 xlt  gas   \n",
      "32  auburn  27990  2012.0          gmc  sierra 2500 hd extended cab  gas   \n",
      "33  auburn  34590  2016.0    chevrolet        silverado 1500 double  gas   \n",
      "34  auburn  35000  2019.0       toyota                       tacoma  gas   \n",
      "35  auburn  29990  2016.0    chevrolet        colorado extended cab  gas   \n",
      "36  auburn  38590  2011.0    chevrolet         corvette grand sport  gas   \n",
      "\n",
      "    odometer title_status transmission    type state      lat       long  \n",
      "27   57923.0        clean        other  pickup    al  32.5900 -85.480000  \n",
      "28   71229.0        clean        other  pickup    al  32.5900 -85.480000  \n",
      "29   19160.0        clean        other  pickup    al  32.5900 -85.480000  \n",
      "30   41124.0        clean        other  pickup    al  32.5900 -85.480000  \n",
      "31  128000.0        clean    automatic   truck    al  32.5920 -85.518900  \n",
      "32   68696.0        clean        other  pickup    al  32.5900 -85.480000  \n",
      "33   29499.0        clean        other  pickup    al  32.5900 -85.480000  \n",
      "34   43000.0        clean    automatic   truck    al  32.6013 -85.443974  \n",
      "35   17302.0        clean        other  pickup    al  32.5900 -85.480000  \n",
      "36   30237.0        clean        other   other    al  32.5900 -85.480000  \n"
     ]
    }
   ],
   "source": [
    "year_threshold = 1990\n",
    "df_after_thresh = df_drop_outlier[df_drop_outlier['year'] >= year_threshold]\n",
    "print(df_after_thresh.head(10))"
   ]
  },
  {
   "cell_type": "code",
   "execution_count": 24,
   "id": "ff6c0e81",
   "metadata": {
    "ExecuteTime": {
     "end_time": "2021-11-05T08:18:06.461758Z",
     "start_time": "2021-11-05T08:18:06.259228Z"
    }
   },
   "outputs": [
    {
     "name": "stdout",
     "output_type": "stream",
     "text": [
      "region(categorical column) has \"403\" different value\n",
      "manufacturer(categorical column) has \"40\" different value\n",
      "model(categorical column) has \"16943\" different value\n",
      "fuel(categorical column) has \"5\" different value\n",
      "title_status(categorical column) has \"6\" different value\n",
      "transmission(categorical column) has \"3\" different value\n",
      "type(categorical column) has \"13\" different value\n",
      "state(categorical column) has \"51\" different value\n"
     ]
    }
   ],
   "source": [
    "for col_name in get_string_col(df_after_thresh):\n",
    "        if df_after_thresh[col_name].dtype == 'object':\n",
    "            print(f'{col_name}(categorical column) has \"{len(df_after_thresh[col_name].unique())}\" different value')"
   ]
  },
  {
   "cell_type": "code",
   "execution_count": 25,
   "id": "2762b4cc",
   "metadata": {
    "ExecuteTime": {
     "end_time": "2021-11-05T08:18:08.649259Z",
     "start_time": "2021-11-05T08:18:08.503266Z"
    }
   },
   "outputs": [
    {
     "name": "stdout",
     "output_type": "stream",
     "text": [
      "['sierra 1500 crew cab slt' 'silverado 1500' 'silverado 1500 crew' ...\n",
      " 'f150, platinum' 'cruze, 2lt' 'gand wagoneer']\n"
     ]
    },
    {
     "name": "stderr",
     "output_type": "stream",
     "text": [
      "D:\\IDE\\anaconda3\\lib\\site-packages\\pandas\\core\\frame.py:4308: SettingWithCopyWarning: \n",
      "A value is trying to be set on a copy of a slice from a DataFrame\n",
      "\n",
      "See the caveats in the documentation: https://pandas.pydata.org/pandas-docs/stable/user_guide/indexing.html#returning-a-view-versus-a-copy\n",
      "  return super().drop(\n"
     ]
    }
   ],
   "source": [
    "# print(df_after_thresh['model'].unique())\n",
    "df_after_thresh.drop('model', axis=1, inplace=True)"
   ]
  },
  {
   "cell_type": "code",
   "execution_count": 26,
   "id": "bec620d4",
   "metadata": {
    "ExecuteTime": {
     "end_time": "2021-11-05T08:19:13.833488Z",
     "start_time": "2021-11-05T08:19:11.187499Z"
    }
   },
   "outputs": [],
   "source": [
    "df_after_thresh.to_csv(r'./dataset/afterPreprocessing.csv')"
   ]
  },
  {
   "cell_type": "code",
   "execution_count": null,
   "id": "be5bc520",
   "metadata": {},
   "outputs": [],
   "source": [
    "df_after_thresh = pd.read_csv(r'./dataset/afterPreprocessing.csv')"
   ]
  },
  {
   "cell_type": "code",
   "execution_count": null,
   "id": "66b074a9",
   "metadata": {},
   "outputs": [],
   "source": [
    "encoder=OrdinalEncoder()\n",
    "df.drop(['region','region_url'], axis=1, inplace=True)\n",
    "# print(df.info())\n",
    "df_needEncoding=df[get_string_col(df_after_thresh)]\n",
    "df_notEncoding=df[!get_string_col(df_after_thresh)]\n",
    "\n",
    "df_encoding=pd.DataFrame(encoder.fit_transform(df_needEncoding), columns=get_string_col(df_after_thresh))\n",
    "\n",
    "print(df_encoding.head(10))"
   ]
  }
 ],
 "metadata": {
  "kernelspec": {
   "display_name": "Python 3",
   "language": "python",
   "name": "python3"
  },
  "language_info": {
   "codemirror_mode": {
    "name": "ipython",
    "version": 3
   },
   "file_extension": ".py",
   "mimetype": "text/x-python",
   "name": "python",
   "nbconvert_exporter": "python",
   "pygments_lexer": "ipython3",
   "version": "3.8.10"
  },
  "toc": {
   "base_numbering": 1,
   "nav_menu": {},
   "number_sections": true,
   "sideBar": true,
   "skip_h1_title": false,
   "title_cell": "Table of Contents",
   "title_sidebar": "Contents",
   "toc_cell": false,
   "toc_position": {},
   "toc_section_display": true,
   "toc_window_display": false
  },
  "varInspector": {
   "cols": {
    "lenName": 16,
    "lenType": 16,
    "lenVar": 40
   },
   "kernels_config": {
    "python": {
     "delete_cmd_postfix": "",
     "delete_cmd_prefix": "del ",
     "library": "var_list.py",
     "varRefreshCmd": "print(var_dic_list())"
    },
    "r": {
     "delete_cmd_postfix": ") ",
     "delete_cmd_prefix": "rm(",
     "library": "var_list.r",
     "varRefreshCmd": "cat(var_dic_list()) "
    }
   },
   "types_to_exclude": [
    "module",
    "function",
    "builtin_function_or_method",
    "instance",
    "_Feature"
   ],
   "window_display": false
  }
 },
 "nbformat": 4,
 "nbformat_minor": 5
}
